{
  "nbformat": 4,
  "nbformat_minor": 0,
  "metadata": {
    "colab": {
      "private_outputs": true,
      "provenance": [],
      "gpuType": "T4",
      "cell_execution_strategy": "setup",
      "authorship_tag": "ABX9TyPphd9344B7w3Jd9GzXlH/b",
      "include_colab_link": true
    },
    "kernelspec": {
      "name": "python3",
      "display_name": "Python 3"
    },
    "language_info": {
      "name": "python"
    },
    "accelerator": "GPU"
  },
  "cells": [
    {
      "cell_type": "markdown",
      "metadata": {
        "id": "view-in-github",
        "colab_type": "text"
      },
      "source": [
        "<a href=\"https://colab.research.google.com/github/kidcvs/Multimedia2SubVideo/blob/main/Audio2SubVideo.ipynb\" target=\"_parent\"><img src=\"https://colab.research.google.com/assets/colab-badge.svg\" alt=\"Open In Colab\"/></a>"
      ]
    },
    {
      "cell_type": "code",
      "execution_count": null,
      "metadata": {
        "id": "Q2t2IcrTvJim"
      },
      "outputs": [],
      "source": [
        "# 安装必要库\n",
        "!pip install git+https://github.com/openai/whisper.git\n",
        "!pip install transformers\n",
        "!pip install moviepy\n",
        "!pip install ffmpeg-python\n",
        "!apt-get install ffmpeg\n",
        "\n",
        "# 导入库\n",
        "import whisper\n",
        "from transformers import MarianMTModel, MarianTokenizer\n",
        "import moviepy.editor as mp\n",
        "import ffmpeg\n",
        "from google.colab import files\n",
        "import os\n",
        "\n",
        "# 上传影片文件\n",
        "# Upload audio file\n",
        "uploaded = files.upload()\n",
        "\n",
        "# Get the filename\n",
        "audio_filename = next(iter(uploaded))\n",
        "\n",
        "# 加载 Whisper 模型\n",
        "model = whisper.load_model(\"base\")\n",
        "\n",
        "# 音频转录\n",
        "result = model.transcribe(audio_filename)\n",
        "english_subtitles = result['text']\n",
        "# 可选地，获取时间戳\n",
        "segments = result['segments']\n",
        "\n",
        "# 加载翻译模型和分词器\n",
        "src_text = [segment['text'] for segment in segments]\n",
        "model_name = 'Helsinki-NLP/opus-mt-en-zh'\n",
        "tokenizer = MarianTokenizer.from_pretrained(model_name)\n",
        "translation_model = MarianMTModel.from_pretrained(model_name)\n",
        "\n",
        "# 翻译字幕\n",
        "translated_subtitles = []\n",
        "for text in src_text:\n",
        "    translated = translation_model.generate(**tokenizer(text, return_tensors=\"pt\", padding=True))\n",
        "    translated_text = [tokenizer.decode(t, skip_special_tokens=True) for t in translated]\n",
        "    translated_subtitles.append(translated_text[0])\n",
        "\n",
        "# 合并带有时间戳的翻译\n",
        "for i, segment in enumerate(segments):\n",
        "    segment['translated_text'] = translated_subtitles[i]\n",
        "\n",
        "# 创建视频剪辑\n",
        "# 使用静态背景图片或颜色\n",
        "video_clip = mp.ColorClip(size=(1280, 720), color=(0, 0, 0), duration=result['duration'])\n",
        "# 设置音频\n",
        "audio_clip = mp.AudioFileClip(audio_filename)\n",
        "video_clip = video_clip.set_audio(audio_clip)\n",
        "\n",
        "# 为MoviePy生成字幕\n",
        "from moviepy.editor import TextClip, CompositeVideoClip\n",
        "\n",
        "subtitles = []\n",
        "\n",
        "for segment in segments:\n",
        "    txt_clip = (TextClip(segment['translated_text'], fontsize=24, color='white')\n",
        "                .set_position(('center', 'bottom'))\n",
        "                .set_start(segment['start'])\n",
        "                .set_duration(segment['end'] - segment['start']))\n",
        "    subtitles.append(txt_clip)\n",
        "\n",
        "final_video = CompositeVideoClip([video_clip, *subtitles])\n",
        "\n",
        "# 导出视频\n",
        "output_filename = 'output_video.mp4'\n",
        "final_video.write_videofile(output_filename, fps=24)\n",
        "\n",
        "# 提供下载链接\n",
        "files.download(output_filename)\n"
      ]
    }
  ]
}